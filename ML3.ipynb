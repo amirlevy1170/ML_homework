{
  "nbformat": 4,
  "nbformat_minor": 0,
  "metadata": {
    "colab": {
      "provenance": [],
      "authorship_tag": "ABX9TyM37L5G+ngKMX4zPItN08Tc",
      "include_colab_link": true
    },
    "kernelspec": {
      "name": "python3",
      "display_name": "Python 3"
    },
    "language_info": {
      "name": "python"
    }
  },
  "cells": [
    {
      "cell_type": "markdown",
      "metadata": {
        "id": "view-in-github",
        "colab_type": "text"
      },
      "source": [
        "<a href=\"https://colab.research.google.com/github/amirlevy1170/ML_homework/blob/main/ML3.ipynb\" target=\"_parent\"><img src=\"https://colab.research.google.com/assets/colab-badge.svg\" alt=\"Open In Colab\"/></a>"
      ]
    },
    {
      "cell_type": "markdown",
      "source": [
        "In this exercise we will optimize the log loss defined\n",
        "as follows:\n",
        "\n",
        "ℓlog (w, x, y) = log\n",
        "1 + e\n",
        "−yw·x\n",
        "\n",
        "in the lecture you defined the loss with log2(·), but for optimization purposes the logarithm base doesn’t matter. Derive the gradient update for this case, and implement\n",
        "the appropriate SGD function"
      ],
      "metadata": {
        "id": "gKncJmAGrBdx"
      }
    },
    {
      "cell_type": "code",
      "execution_count": 1,
      "metadata": {
        "id": "snNCckAOp7r6"
      },
      "outputs": [],
      "source": [
        "import math\n",
        "import random\n",
        "\n",
        "import numpy as np\n",
        "import numpy.random\n",
        "import scipy.special\n",
        "from sklearn.datasets import fetch_openml\n",
        "import sklearn.preprocessing\n",
        "import matplotlib.pyplot as plt\n"
      ]
    },
    {
      "cell_type": "markdown",
      "source": [
        "The helper function reads the examples labelled 0, 8 and returns them with the labels −1/+1."
      ],
      "metadata": {
        "id": "A4C5pHkusbMJ"
      }
    },
    {
      "cell_type": "code",
      "source": [
        "def helper():\n",
        "    mnist = fetch_openml('mnist_784', as_frame=False)\n",
        "    data = mnist['data']\n",
        "    labels = mnist['target']\n",
        "\n",
        "    neg, pos = \"0\", \"8\"\n",
        "    train_idx = numpy.random.RandomState(0).permutation(np.where((labels[:60000] == neg) | (labels[:60000] == pos))[0])\n",
        "    test_idx = numpy.random.RandomState(0).permutation(np.where((labels[60000:] == neg) | (labels[60000:] == pos))[0])\n",
        "\n",
        "    train_data_unscaled = data[train_idx[:6000], :].astype(float)\n",
        "    train_labels = (labels[train_idx[:6000]] == pos) * 2 - 1\n",
        "\n",
        "    validation_data_unscaled = data[train_idx[6000:], :].astype(float)\n",
        "    validation_labels = (labels[train_idx[6000:]] == pos) * 2 - 1\n",
        "\n",
        "    test_data_unscaled = data[60000 + test_idx, :].astype(float)\n",
        "    test_labels = (labels[60000 + test_idx] == pos) * 2 - 1\n",
        "\n",
        "    # Preprocessing\n",
        "    train_data = sklearn.preprocessing.scale(train_data_unscaled, axis=0, with_std=False)\n",
        "    validation_data = sklearn.preprocessing.scale(validation_data_unscaled, axis=0, with_std=False)\n",
        "    test_data = sklearn.preprocessing.scale(test_data_unscaled, axis=0, with_std=False)\n",
        "    return train_data, train_labels, validation_data, validation_labels, test_data, test_labels\n",
        "\n",
        "\n",
        "def SGD_hinge(data, labels, C, eta_0, T):\n",
        "    \"\"\"\n",
        "    Implements SGD for hinge loss.\n",
        "    \"\"\"\n",
        "    w = np.array([0 for i in range(len(data[0]))])\n",
        "    for t in range(1, T + 1):\n",
        "        eta = eta_0 / t\n",
        "        i = random.randint(0, len(data) - 1)\n",
        "        if np.dot(labels[i] * w, data[i]) < 1:\n",
        "            w = (1 - eta) * w + eta * C * labels[i] * data[i]\n",
        "        else:\n",
        "            w = (1 - eta) * w\n",
        "    return w\n",
        "\n",
        "def SGD_log(data, labels, eta_0, T):\n",
        "    \"\"\"\n",
        "    Implements SGD for log loss.\n",
        "    \"\"\"\n",
        "    w = np.array([0 for i in range(len(data[0]))])\n",
        "    for t in range(1, T + 1):\n",
        "        eta = eta_0 / t\n",
        "        i = random.randint(0, len(data) - 1)\n",
        "        w = w - eta * gradient(w, data[i], labels[i])\n",
        "    return w\n"
      ],
      "metadata": {
        "id": "017Jy4DqqQXH"
      },
      "execution_count": 2,
      "outputs": []
    },
    {
      "cell_type": "markdown",
      "source": [
        "We will continue working with the MNIST data\n",
        "set. The file template (skeleton sgd.py), contains the code to load the training,\n",
        "validation and test sets for the digits 0 and 8 from the MNIST data. \n",
        "\n",
        "In this exercise\n",
        "we will optimize the Hinge loss with L2-regularization \n",
        "\n",
        "(ℓ(w, x, y) = C(max{0, 1 −\n",
        "y⟨w, x⟩}) + 0.5∥w∥\n",
        "2\n",
        "),\n",
        "\n",
        " using the stochastic gradient descent implementation discussed\n",
        "in class. \n",
        "\n",
        "Namely, we initialize w1 = 0, and at each iteration t = 1, . . . we sample i\n",
        "uniformly; and if yiwt\n",
        "· xi < 1, we update:\n",
        "\n",
        "wt+1 = (1 − ηt)wt + ηtCyixi\n",
        "\n",
        "and wt+1 = (1 − ηt)wt otherwise, where ηt = η0/t, and η0 is a constant. \n",
        "\n",
        "Implement an SGD function that accepts the samples and their labels, C, η0 and T, and runs\n",
        "T gradient updates as specified above. In the questions that follow, make sure your\n",
        "graphs are meaningful. Consider using set xlim or set ylim to concentrate only on\n",
        "a relevant range of values."
      ],
      "metadata": {
        "id": "gFVn2cR1sn_9"
      }
    },
    {
      "cell_type": "code",
      "source": [
        "#################################\n",
        "# Place for additional code\n",
        "\n",
        "def gradient(w, x, y):\n",
        "    z = y * np.dot(w, x)\n",
        "    return -y * x / (1 + np.exp(z))\n",
        "\n",
        "\n",
        "def SGD(data, w):\n",
        "    labels = []\n",
        "    for x in data:\n",
        "        if np.dot(x, w) > 0:\n",
        "            labels.append(1)\n",
        "        else:\n",
        "            labels.append(-1)\n",
        "    return labels\n",
        "\n",
        "\n",
        "def diff_rate(y1, y2):\n",
        "    count = 0\n",
        "    for i in range(len(y1)):\n",
        "        if y1[i] == y2[i]:\n",
        "            count += 1\n",
        "    return count / len(y1)\n",
        "\n",
        "\n",
        "def ques1_a(data, labels, cross_data, cross_labels, T, C):\n",
        "    # etas = [math.pow(10, i) for i in range(-5, 6)]\n",
        "    etas = [i / 100 for i in range(70, 80)]\n",
        "    average = []\n",
        "    for eta_0 in etas:\n",
        "        count = 0\n",
        "        for _ in range(10):\n",
        "            w = SGD_hinge(data, labels, C, eta_0, T)\n",
        "            exam_labels = SGD(cross_data, w)\n",
        "            count += diff_rate(exam_labels, cross_labels)\n",
        "        average.append(count / 10)\n",
        "    plt.plot(etas, average)\n",
        "    plt.show()\n",
        "\n",
        "\n",
        "def ques1_b(data, labels, cross_data, cross_labels, T, eta_0):\n",
        "    cis = [i for i in range(-5, 6)]\n",
        "    average = []\n",
        "    for C in cis:\n",
        "        count = 0\n",
        "        for _ in range(10):\n",
        "            w = SGD_hinge(data, labels, math.pow(10, C), eta_0, T)\n",
        "            exam_labels = SGD(cross_data, w)\n",
        "            count += diff_rate(exam_labels, cross_labels)\n",
        "        average.append(count / 10)\n",
        "    plt.plot(cis, average)\n",
        "    plt.show()\n",
        "\n",
        "\n",
        "def ques1_c(data, labels, eta0, C, T):\n",
        "    w = SGD_hinge(data, labels, C, eta0, T)\n",
        "    plt.imshow(np.reshape(w, (28, 28)), interpolation=\"nearest\")\n",
        "    plt.show()\n",
        "\n",
        "\n",
        "def ques1_d(data, labels, test_data, test_labels, eta0, C, T):\n",
        "    w = SGD_hinge(data, labels, C, eta0, T)\n",
        "    new_l = SGD(test_data, w)\n",
        "    return diff_rate(new_l, test_labels)\n",
        "\n",
        "\n",
        "def ques2_a(data, labels, cross_data, cross_labels, T):\n",
        "    etas = [i / 100000 for i in range(1, 10)]\n",
        "    # etas = [i / 100 for i in range(70, 80)]\n",
        "    average = []\n",
        "    for eta_0 in etas:\n",
        "        count = 0\n",
        "        for _ in range(10):\n",
        "            # w = SGD_log(data, labels, math.pow(10, eta_0), T)\n",
        "            w = SGD_log(data, labels, eta_0, T)\n",
        "            exam_labels = SGD(cross_data, w)\n",
        "            count += diff_rate(exam_labels, cross_labels)\n",
        "        average.append(count / 10)\n",
        "    plt.plot(etas, average)\n",
        "    plt.show()\n",
        "\n",
        "\n",
        "def ques2_b(data, labels, eta0, test_data, test_labels, T):\n",
        "    w = SGD_log(data, labels, eta0, T)\n",
        "    plt.imshow(np.reshape(w, (28, 28)), interpolation=\"nearest\")\n",
        "    plt.show()\n",
        "    new_l = SGD(test_data, w)\n",
        "    return diff_rate(new_l, test_labels)\n",
        "\n",
        "\n",
        "def ques2_c(data, labels, T, eta_0):\n",
        "    norm = []\n",
        "    T_arr = [i for i in range(T)]\n",
        "    w = np.array([0 for i in range(len(data[0]))])\n",
        "    for t in T_arr:\n",
        "        eta = eta_0 / (t + 1)\n",
        "        i = random.randint(0, len(data) - 1)\n",
        "        w = w - eta * gradient(w, data[i], labels[i])\n",
        "        norm.append(np.linalg.norm(w))\n",
        "    plt.plot(T_arr, norm)\n",
        "    plt.show()\n",
        "\n"
      ],
      "metadata": {
        "id": "zXMTM5SrqQZe"
      },
      "execution_count": 3,
      "outputs": []
    },
    {
      "cell_type": "markdown",
      "source": [
        "# question 1\n",
        "(a)  Train the classifier on the training set. Use cross-validation on the\n",
        "validation set to find the best η0, assuming T = 1000 and C = 1. For each possible\n",
        "η0 (for example, you can search on the log scale η0 = 10^−5\n",
        ", 10^−4\n",
        ", . . . , 10^4\n",
        ", 10^5\n",
        "and increase resolution if needed), assess the performance of η0 by averaging the\n",
        "accuracy on the validation set across 10 runs. Plot the average accuracy on the\n",
        "validation set, as a function of η0.\n",
        "\n",
        "(b)  Now, cross-validate on the validation set to find the best C given the\n",
        "best η0 you found above. For each possible C (again, you can search on the log\n",
        "scale as in section (a)), average the accuracy on the validation set across 10 runs.\n",
        "Plot the average accuracy on the validation set, as a function of C.\n",
        "\n",
        "(c) Using the best C, η0 you found, train the classifier, but for T = 20000.\n",
        "Show the resulting w as an image, e.g. using the following matplotlib.pyplot\n",
        "function: imshow(reshape(image, (28, 28)), interpolation=’nearest’).\n",
        "Give an intuitive interpretation of the image you obtain.\n",
        "\n",
        "(d) What is the accuracy of the best classifier on the test set?\n",
        "\n",
        "# question 2\n",
        "\n",
        "(a)  Train the classifier on the training set. Use cross-validation on the\n",
        "validation set to find the best η0, assuming T = 1000. For each possible η0 (for\n",
        "example, you can search on the log scale η0 = 10^−5\n",
        ", 10^−4\n",
        ", . . . , 10^4\n",
        ", 10^5 and increase\n",
        "resolution if needed), assess the performance of η0 by averaging the accuracy on\n",
        "the validation set across 10 runs. Plot the average accuracy on the validation set,\n",
        "as a function of η0.\n",
        "\n",
        "(b)  Using the best η0 you found, train the classifier, but for T = 20000.\n",
        "Show the resulting w as an image. What is the accuracy of the best classifier on\n",
        "the test set?\n",
        "\n",
        "(c)  Train the classifier for T = 20000 iterations, and plot the norm of\n",
        "w as a function of the iteration. How does the norm change as SGD progresses?\n"
      ],
      "metadata": {
        "id": "Fj9buwD1rlY-"
      }
    },
    {
      "cell_type": "code",
      "source": [
        "train_data, train_labels, validation_data, validation_labels, test_data, test_labels = helper()\n",
        "# ques1_a(train_data, train_labels, validation_data, validation_labels, 1000, 1)\n",
        "# ques1_b(train_data, train_labels, validation_data, validation_labels, 1000, 0.725)\n",
        "# ques1_c(train_data, train_labels, 0.725, math.pow(10, -4), 20000)\n",
        "# print(ques1_d(train_data, train_labels, test_data, test_labels, 0.725, math.pow(10, -4), 20000))\n",
        "# ques2_a(train_data, train_labels, validation_data, validation_labels, 1000)\n",
        "print(ques2_b(train_data, train_labels, math.pow(10, -5), test_data, test_labels, 20000))\n",
        "#ques2_c(train_data, train_labels, 20000, math.pow(10, -5))"
      ],
      "metadata": {
        "colab": {
          "base_uri": "https://localhost:8080/",
          "height": 502
        },
        "id": "HIZhlDk7qQbw",
        "outputId": "6f9e0ce3-05ae-46c3-94df-fd26462811ec"
      },
      "execution_count": 4,
      "outputs": [
        {
          "output_type": "stream",
          "name": "stderr",
          "text": [
            "/usr/local/lib/python3.10/dist-packages/sklearn/datasets/_openml.py:968: FutureWarning: The default value of `parser` will change from `'liac-arff'` to `'auto'` in 1.4. You can set `parser='auto'` to silence this warning. Therefore, an `ImportError` will be raised from 1.4 if the dataset is dense and pandas is not installed. Note that the pandas parser may return different data types. See the Notes Section in fetch_openml's API doc for details.\n",
            "  warn(\n"
          ]
        },
        {
          "output_type": "display_data",
          "data": {
            "text/plain": [
              "<Figure size 640x480 with 1 Axes>"
            ],
            "image/png": "[encoded data removed]"
          },
          "metadata": {}
        },
        {
          "output_type": "stream",
          "name": "stdout",
          "text": [
            "0.9728761514841351\n"
          ]
        }
      ]
    }
  ]
}